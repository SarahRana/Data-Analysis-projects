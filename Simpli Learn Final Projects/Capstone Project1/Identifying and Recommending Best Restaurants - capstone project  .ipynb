{
 "cells": [
  {
   "cell_type": "markdown",
   "id": "6e50cbbd",
   "metadata": {},
   "source": [
    "## Domain: Marketing \n",
    "\n",
    "ANALYSIS: A restaurant consolidator is looking to revamp its B-to-C portal using intelligent automation tech. It is in search of different matrix to identify and recommend restaurants. To make sure an effective model can be achieved it is important to understand the behaviour of the data in hand."
   ]
  },
  {
   "cell_type": "code",
   "execution_count": 1,
   "id": "a6cf7f64",
   "metadata": {},
   "outputs": [],
   "source": [
    "import pandas as pd\n",
    "import numpy as np \n",
    "import seaborn as sns\n",
    "import matplotlib.pyplot as plt"
   ]
  },
  {
   "cell_type": "code",
   "execution_count": 2,
   "id": "b594a81c",
   "metadata": {},
   "outputs": [],
   "source": [
    "colors = ['mediumaquamarine', 'peachpuff', 'plum','hotpink',  'teal', 'darkturquoise', 'yellowgreen', 'darkseagreen']"
   ]
  },
  {
   "cell_type": "code",
   "execution_count": 3,
   "id": "f7916844",
   "metadata": {},
   "outputs": [
    {
     "name": "stdout",
     "output_type": "stream",
     "text": [
      "C:\\Users\\SarahRana\\OneDrive - JCW Resourcing\\Documents\\Training Session docs\\capstone\\1582800386_project1datadictionary\n"
     ]
    }
   ],
   "source": [
    "import os\n",
    "print(os.getcwd())"
   ]
  },
  {
   "cell_type": "code",
   "execution_count": 4,
   "id": "d940c7e7",
   "metadata": {},
   "outputs": [
    {
     "name": "stdout",
     "output_type": "stream",
     "text": [
      "C:\\Users\\SarahRana\\OneDrive - JCW Resourcing\\Documents\\Training Session docs\\capstone\\1582800386_project1datadictionary\\data.xlsx\n"
     ]
    }
   ],
   "source": [
    "absolutepath = os.path.abspath('data.xlsx')\n",
    "print(absolutepath)"
   ]
  },
  {
   "cell_type": "markdown",
   "id": "0aa53689",
   "metadata": {},
   "source": [
    "### Preliminary Analysis "
   ]
  },
  {
   "cell_type": "code",
   "execution_count": 5,
   "id": "75f3dc1b",
   "metadata": {},
   "outputs": [],
   "source": [
    "df=pd.read_excel('data.xlsx')"
   ]
  },
  {
   "cell_type": "code",
   "execution_count": 6,
   "id": "15ada142",
   "metadata": {},
   "outputs": [],
   "source": [
    "da=pd.read_excel('Country-Code.xlsx')"
   ]
  },
  {
   "cell_type": "code",
   "execution_count": 7,
   "id": "e531c918",
   "metadata": {},
   "outputs": [
    {
     "data": {
      "text/html": [
       "<div>\n",
       "<style scoped>\n",
       "    .dataframe tbody tr th:only-of-type {\n",
       "        vertical-align: middle;\n",
       "    }\n",
       "\n",
       "    .dataframe tbody tr th {\n",
       "        vertical-align: top;\n",
       "    }\n",
       "\n",
       "    .dataframe thead th {\n",
       "        text-align: right;\n",
       "    }\n",
       "</style>\n",
       "<table border=\"1\" class=\"dataframe\">\n",
       "  <thead>\n",
       "    <tr style=\"text-align: right;\">\n",
       "      <th></th>\n",
       "      <th>Restaurant ID</th>\n",
       "      <th>Restaurant Name</th>\n",
       "      <th>Country Code</th>\n",
       "      <th>City</th>\n",
       "      <th>Address</th>\n",
       "      <th>Locality</th>\n",
       "      <th>Locality Verbose</th>\n",
       "      <th>Longitude</th>\n",
       "      <th>Latitude</th>\n",
       "      <th>Cuisines</th>\n",
       "      <th>Average Cost for two</th>\n",
       "      <th>Currency</th>\n",
       "      <th>Has Table booking</th>\n",
       "      <th>Has Online delivery</th>\n",
       "      <th>Price range</th>\n",
       "      <th>Aggregate rating</th>\n",
       "      <th>Rating color</th>\n",
       "      <th>Rating text</th>\n",
       "      <th>Votes</th>\n",
       "    </tr>\n",
       "  </thead>\n",
       "  <tbody>\n",
       "    <tr>\n",
       "      <th>0</th>\n",
       "      <td>7402935</td>\n",
       "      <td>Skye</td>\n",
       "      <td>94</td>\n",
       "      <td>Jakarta</td>\n",
       "      <td>Menara BCA, Lantai 56, Jl. MH. Thamrin, Thamri...</td>\n",
       "      <td>Grand Indonesia Mall, Thamrin</td>\n",
       "      <td>Grand Indonesia Mall, Thamrin, Jakarta</td>\n",
       "      <td>106.821999</td>\n",
       "      <td>-6.196778</td>\n",
       "      <td>Italian, Continental</td>\n",
       "      <td>800000</td>\n",
       "      <td>Indonesian Rupiah(IDR)</td>\n",
       "      <td>No</td>\n",
       "      <td>No</td>\n",
       "      <td>3</td>\n",
       "      <td>4.1</td>\n",
       "      <td>Green</td>\n",
       "      <td>Very Good</td>\n",
       "      <td>1498</td>\n",
       "    </tr>\n",
       "    <tr>\n",
       "      <th>1</th>\n",
       "      <td>7410290</td>\n",
       "      <td>Satoo - Hotel Shangri-La</td>\n",
       "      <td>94</td>\n",
       "      <td>Jakarta</td>\n",
       "      <td>Hotel Shangri-La, Jl. Jend. Sudirman</td>\n",
       "      <td>Hotel Shangri-La, Sudirman</td>\n",
       "      <td>Hotel Shangri-La, Sudirman, Jakarta</td>\n",
       "      <td>106.818961</td>\n",
       "      <td>-6.203292</td>\n",
       "      <td>Asian, Indonesian, Western</td>\n",
       "      <td>800000</td>\n",
       "      <td>Indonesian Rupiah(IDR)</td>\n",
       "      <td>No</td>\n",
       "      <td>No</td>\n",
       "      <td>3</td>\n",
       "      <td>4.6</td>\n",
       "      <td>Dark Green</td>\n",
       "      <td>Excellent</td>\n",
       "      <td>873</td>\n",
       "    </tr>\n",
       "    <tr>\n",
       "      <th>2</th>\n",
       "      <td>7420899</td>\n",
       "      <td>Sushi Masa</td>\n",
       "      <td>94</td>\n",
       "      <td>Jakarta</td>\n",
       "      <td>Jl. Tuna Raya No. 5, Penjaringan</td>\n",
       "      <td>Penjaringan</td>\n",
       "      <td>Penjaringan, Jakarta</td>\n",
       "      <td>106.800144</td>\n",
       "      <td>-6.101298</td>\n",
       "      <td>Sushi, Japanese</td>\n",
       "      <td>500000</td>\n",
       "      <td>Indonesian Rupiah(IDR)</td>\n",
       "      <td>No</td>\n",
       "      <td>No</td>\n",
       "      <td>3</td>\n",
       "      <td>4.9</td>\n",
       "      <td>Dark Green</td>\n",
       "      <td>Excellent</td>\n",
       "      <td>605</td>\n",
       "    </tr>\n",
       "    <tr>\n",
       "      <th>3</th>\n",
       "      <td>7421967</td>\n",
       "      <td>3 Wise Monkeys</td>\n",
       "      <td>94</td>\n",
       "      <td>Jakarta</td>\n",
       "      <td>Jl. Suryo No. 26, Senopati, Jakarta</td>\n",
       "      <td>Senopati</td>\n",
       "      <td>Senopati, Jakarta</td>\n",
       "      <td>106.813400</td>\n",
       "      <td>-6.235241</td>\n",
       "      <td>Japanese</td>\n",
       "      <td>450000</td>\n",
       "      <td>Indonesian Rupiah(IDR)</td>\n",
       "      <td>No</td>\n",
       "      <td>No</td>\n",
       "      <td>3</td>\n",
       "      <td>4.2</td>\n",
       "      <td>Green</td>\n",
       "      <td>Very Good</td>\n",
       "      <td>395</td>\n",
       "    </tr>\n",
       "    <tr>\n",
       "      <th>4</th>\n",
       "      <td>7422489</td>\n",
       "      <td>Avec Moi Restaurant and Bar</td>\n",
       "      <td>94</td>\n",
       "      <td>Jakarta</td>\n",
       "      <td>Gedung PIC, Jl. Teluk Betung 43, Thamrin, Jakarta</td>\n",
       "      <td>Thamrin</td>\n",
       "      <td>Thamrin, Jakarta</td>\n",
       "      <td>106.821023</td>\n",
       "      <td>-6.196270</td>\n",
       "      <td>French, Western</td>\n",
       "      <td>350000</td>\n",
       "      <td>Indonesian Rupiah(IDR)</td>\n",
       "      <td>No</td>\n",
       "      <td>No</td>\n",
       "      <td>3</td>\n",
       "      <td>4.3</td>\n",
       "      <td>Green</td>\n",
       "      <td>Very Good</td>\n",
       "      <td>243</td>\n",
       "    </tr>\n",
       "  </tbody>\n",
       "</table>\n",
       "</div>"
      ],
      "text/plain": [
       "   Restaurant ID              Restaurant Name  Country Code     City  \\\n",
       "0        7402935                         Skye            94  Jakarta   \n",
       "1        7410290     Satoo - Hotel Shangri-La            94  Jakarta   \n",
       "2        7420899                   Sushi Masa            94  Jakarta   \n",
       "3        7421967               3 Wise Monkeys            94  Jakarta   \n",
       "4        7422489  Avec Moi Restaurant and Bar            94  Jakarta   \n",
       "\n",
       "                                             Address  \\\n",
       "0  Menara BCA, Lantai 56, Jl. MH. Thamrin, Thamri...   \n",
       "1               Hotel Shangri-La, Jl. Jend. Sudirman   \n",
       "2                   Jl. Tuna Raya No. 5, Penjaringan   \n",
       "3                Jl. Suryo No. 26, Senopati, Jakarta   \n",
       "4  Gedung PIC, Jl. Teluk Betung 43, Thamrin, Jakarta   \n",
       "\n",
       "                        Locality                        Locality Verbose  \\\n",
       "0  Grand Indonesia Mall, Thamrin  Grand Indonesia Mall, Thamrin, Jakarta   \n",
       "1     Hotel Shangri-La, Sudirman     Hotel Shangri-La, Sudirman, Jakarta   \n",
       "2                    Penjaringan                    Penjaringan, Jakarta   \n",
       "3                       Senopati                       Senopati, Jakarta   \n",
       "4                        Thamrin                        Thamrin, Jakarta   \n",
       "\n",
       "    Longitude  Latitude                    Cuisines  Average Cost for two  \\\n",
       "0  106.821999 -6.196778        Italian, Continental                800000   \n",
       "1  106.818961 -6.203292  Asian, Indonesian, Western                800000   \n",
       "2  106.800144 -6.101298             Sushi, Japanese                500000   \n",
       "3  106.813400 -6.235241                    Japanese                450000   \n",
       "4  106.821023 -6.196270             French, Western                350000   \n",
       "\n",
       "                 Currency Has Table booking Has Online delivery  Price range  \\\n",
       "0  Indonesian Rupiah(IDR)                No                  No            3   \n",
       "1  Indonesian Rupiah(IDR)                No                  No            3   \n",
       "2  Indonesian Rupiah(IDR)                No                  No            3   \n",
       "3  Indonesian Rupiah(IDR)                No                  No            3   \n",
       "4  Indonesian Rupiah(IDR)                No                  No            3   \n",
       "\n",
       "   Aggregate rating Rating color Rating text  Votes  \n",
       "0               4.1        Green   Very Good   1498  \n",
       "1               4.6   Dark Green   Excellent    873  \n",
       "2               4.9   Dark Green   Excellent    605  \n",
       "3               4.2        Green   Very Good    395  \n",
       "4               4.3        Green   Very Good    243  "
      ]
     },
     "execution_count": 7,
     "metadata": {},
     "output_type": "execute_result"
    }
   ],
   "source": [
    "df.head()"
   ]
  },
  {
   "cell_type": "code",
   "execution_count": 8,
   "id": "789e6b27",
   "metadata": {},
   "outputs": [
    {
     "name": "stdout",
     "output_type": "stream",
     "text": [
      "<class 'pandas.core.frame.DataFrame'>\n",
      "RangeIndex: 9551 entries, 0 to 9550\n",
      "Data columns (total 19 columns):\n",
      " #   Column                Non-Null Count  Dtype  \n",
      "---  ------                --------------  -----  \n",
      " 0   Restaurant ID         9551 non-null   int64  \n",
      " 1   Restaurant Name       9550 non-null   object \n",
      " 2   Country Code          9551 non-null   int64  \n",
      " 3   City                  9551 non-null   object \n",
      " 4   Address               9551 non-null   object \n",
      " 5   Locality              9551 non-null   object \n",
      " 6   Locality Verbose      9551 non-null   object \n",
      " 7   Longitude             9551 non-null   float64\n",
      " 8   Latitude              9551 non-null   float64\n",
      " 9   Cuisines              9542 non-null   object \n",
      " 10  Average Cost for two  9551 non-null   int64  \n",
      " 11  Currency              9551 non-null   object \n",
      " 12  Has Table booking     9551 non-null   object \n",
      " 13  Has Online delivery   9551 non-null   object \n",
      " 14  Price range           9551 non-null   int64  \n",
      " 15  Aggregate rating      9551 non-null   float64\n",
      " 16  Rating color          9551 non-null   object \n",
      " 17  Rating text           9551 non-null   object \n",
      " 18  Votes                 9551 non-null   int64  \n",
      "dtypes: float64(3), int64(5), object(11)\n",
      "memory usage: 1.4+ MB\n"
     ]
    }
   ],
   "source": [
    "df.info()"
   ]
  },
  {
   "cell_type": "markdown",
   "id": "6529c386",
   "metadata": {},
   "source": [
    "The summary of the data shows that there are a total of 9551 entries of data and 19 variables. From this, we can see that 'Restaurant Name' and 'Cuisines' have missing values.\n",
    "\n",
    "Additionally, all the numerical variables have the correct datatype. "
   ]
  },
  {
   "cell_type": "code",
   "execution_count": 9,
   "id": "2d30f520",
   "metadata": {},
   "outputs": [
    {
     "data": {
      "text/plain": [
       "9"
      ]
     },
     "execution_count": 9,
     "metadata": {},
     "output_type": "execute_result"
    }
   ],
   "source": [
    "df.Cuisines.isnull().sum()"
   ]
  },
  {
   "cell_type": "markdown",
   "id": "70ed562c",
   "metadata": {},
   "source": [
    "The Cuisines column has a total of 9 missing entries."
   ]
  },
  {
   "cell_type": "code",
   "execution_count": 10,
   "id": "dd295647",
   "metadata": {},
   "outputs": [
    {
     "data": {
      "text/plain": [
       "False"
      ]
     },
     "execution_count": 10,
     "metadata": {},
     "output_type": "execute_result"
    }
   ],
   "source": [
    "df.duplicated().any()"
   ]
  },
  {
   "cell_type": "markdown",
   "id": "d704b98d",
   "metadata": {},
   "source": [
    "The data doesn't have any duplicated entries."
   ]
  },
  {
   "cell_type": "markdown",
   "id": "4cac5472",
   "metadata": {},
   "source": [
    "#### * Inconsistent data entry check"
   ]
  },
  {
   "cell_type": "code",
   "execution_count": 11,
   "id": "b5a02da2",
   "metadata": {},
   "outputs": [
    {
     "data": {
      "text/plain": [
       "array(['Jakarta', 'Tangerang', 'Bogor', 'Bandung', 'New Delhi',\n",
       "       'Pasay City', 'Gurgaon', 'Colombo', 'Mandaluyong City', 'Agra',\n",
       "       'Noida', 'Pretoria', 'Taguig City', 'Kanpur', 'Ghaziabad',\n",
       "       'Jaipur', 'Bangalore', 'Chandigarh', 'Pune', 'Chennai', 'Goa',\n",
       "       'Hyderabad', 'Indore', 'Lucknow', 'Ludhiana', 'Panchkula',\n",
       "       'Ranchi', 'Faridabad', 'Kolkata', 'Ahmedabad', 'Aurangabad',\n",
       "       'Bhopal', 'Mysore', 'Vizag', 'Guwahati', 'Dehradun', 'Mangalore',\n",
       "       'Nagpur', 'Patna', 'Inner City', 'Bhubaneshwar', 'Coimbatore',\n",
       "       'Kochi', 'Mumbai', 'Nashik', 'Puducherry', 'Surat', 'Vadodara',\n",
       "       'Makati City', 'Tagaytay City', 'Amritsar', 'Pasig City',\n",
       "       'Varanasi', 'San Juan City', 'Allahabad', 'Johannesburg',\n",
       "       'Santa Rosa', 'Secunderabad', 'Quezon City', 'Cape Town', 'Mohali',\n",
       "       'Doha', 'Sandton', 'Singapore', 'Abu Dhabi', 'Dubai', 'SÌ£o Paulo',\n",
       "       'Ankara', 'BrasÌ_lia', 'Rio de Janeiro', 'Sharjah', 'London',\n",
       "       'Wellington City', 'Randburg', 'Auckland', '€¡stanbul',\n",
       "       'Manchester', 'Paynesville', 'Birmingham', 'Orlando', 'Edinburgh',\n",
       "       'Albany', 'Boise', 'Davenport', 'Des Moines', 'Dubuque', 'Macon',\n",
       "       'Princeton', 'Rest of Hawaii', 'Savannah', 'Sioux City',\n",
       "       'Tampa Bay', 'Valdosta', 'Vineland Station', 'Pocatello', 'Athens',\n",
       "       'Augusta', 'Cedar Rapids/Iowa City', 'Columbus', 'Dalton',\n",
       "       'Gainesville', 'Ojo Caliente', 'Pensacola', 'Waterloo', 'Flaxton',\n",
       "       'Middleton Beach', 'Montville', 'Palm Cove', 'Tanunda',\n",
       "       'Chatham-Kent', 'Cochrane', 'Consort', 'Lincoln', 'Monroe',\n",
       "       'Potrero', 'Weirton', 'Winchester Bay', 'Yorkton', 'Armidale',\n",
       "       'Balingup', 'Beechworth', 'East Ballina', 'Forrest',\n",
       "       'Hepburn Springs', 'Huskisson', 'Lorn', 'Macedon', 'Mayfield',\n",
       "       'Penola', 'Phillip Island', 'Trentham East', 'Victor Harbor',\n",
       "       'Clatskanie', 'Fernley', 'Lakeview', 'Mc Millan', 'Vernonia',\n",
       "       'Dicky Beach', 'Inverloch', 'Lakes Entrance', 'Miller'],\n",
       "      dtype=object)"
      ]
     },
     "execution_count": 11,
     "metadata": {},
     "output_type": "execute_result"
    }
   ],
   "source": [
    "df.City.unique()"
   ]
  },
  {
   "cell_type": "markdown",
   "id": "bf708f12",
   "metadata": {},
   "source": [
    "'SÌ£o Paulo','BrasÌ_lia' and '€¡stanbul' are not written correctly. "
   ]
  },
  {
   "cell_type": "code",
   "execution_count": 12,
   "id": "258644be",
   "metadata": {},
   "outputs": [],
   "source": [
    "df.replace(['SÌ£o Paulo','BrasÌ_lia','€¡stanbul'], ['Sao Paulo','Brasilia','Istanbul'], inplace=True)"
   ]
  },
  {
   "cell_type": "code",
   "execution_count": 13,
   "id": "d40695ce",
   "metadata": {},
   "outputs": [
    {
     "data": {
      "text/plain": [
       "array(['Green', 'Dark Green', 'Yellow', 'Orange', 'White', 'Red'],\n",
       "      dtype=object)"
      ]
     },
     "execution_count": 13,
     "metadata": {},
     "output_type": "execute_result"
    }
   ],
   "source": [
    "df['Rating color'].unique()"
   ]
  },
  {
   "cell_type": "code",
   "execution_count": 14,
   "id": "74b72af5",
   "metadata": {},
   "outputs": [
    {
     "data": {
      "text/plain": [
       "array(['Very Good', 'Excellent', 'Good', 'Average', 'Not rated', 'Poor'],\n",
       "      dtype=object)"
      ]
     },
     "execution_count": 14,
     "metadata": {},
     "output_type": "execute_result"
    }
   ],
   "source": [
    "df['Rating text'].unique()"
   ]
  },
  {
   "cell_type": "code",
   "execution_count": 15,
   "id": "4aaf1c63",
   "metadata": {},
   "outputs": [
    {
     "data": {
      "text/plain": [
       "array(['No', 'Yes'], dtype=object)"
      ]
     },
     "execution_count": 15,
     "metadata": {},
     "output_type": "execute_result"
    }
   ],
   "source": [
    "df['Has Table booking'].unique()"
   ]
  },
  {
   "cell_type": "code",
   "execution_count": 16,
   "id": "20ad95ab",
   "metadata": {},
   "outputs": [
    {
     "data": {
      "text/plain": [
       "array(['No', 'Yes'], dtype=object)"
      ]
     },
     "execution_count": 16,
     "metadata": {},
     "output_type": "execute_result"
    }
   ],
   "source": [
    "df['Has Online delivery'].unique()"
   ]
  },
  {
   "cell_type": "markdown",
   "id": "180581fb",
   "metadata": {},
   "source": [
    "#### * Currency Variable"
   ]
  },
  {
   "cell_type": "code",
   "execution_count": 17,
   "id": "9c44bf4f",
   "metadata": {},
   "outputs": [
    {
     "data": {
      "text/plain": [
       "Indian Rupees(Rs.)        8652\n",
       "Dollar($)                  482\n",
       "Pounds(å£)                  80\n",
       "Rand(R)                     60\n",
       "Emirati Diram(AED)          60\n",
       "Brazilian Real(R$)          60\n",
       "NewZealand($)               40\n",
       "Turkish Lira(TL)            34\n",
       "Botswana Pula(P)            22\n",
       "Indonesian Rupiah(IDR)      21\n",
       "Sri Lankan Rupee(LKR)       20\n",
       "Qatari Rial(QR)             20\n",
       "Name: Currency, dtype: int64"
      ]
     },
     "execution_count": 17,
     "metadata": {},
     "output_type": "execute_result"
    }
   ],
   "source": [
    "df.Currency.value_counts()"
   ]
  },
  {
   "cell_type": "markdown",
   "id": "f67f9ec7",
   "metadata": {},
   "source": [
    "To make fair comparisons between restaurants, the various currencies for the avarage price for 2 would have to be converted to the same curreny (convert all to Indian Rupees) "
   ]
  },
  {
   "cell_type": "code",
   "execution_count": 18,
   "id": "5ada187e",
   "metadata": {},
   "outputs": [
    {
     "data": {
      "text/html": [
       "<div>\n",
       "<style scoped>\n",
       "    .dataframe tbody tr th:only-of-type {\n",
       "        vertical-align: middle;\n",
       "    }\n",
       "\n",
       "    .dataframe tbody tr th {\n",
       "        vertical-align: top;\n",
       "    }\n",
       "\n",
       "    .dataframe thead th {\n",
       "        text-align: right;\n",
       "    }\n",
       "</style>\n",
       "<table border=\"1\" class=\"dataframe\">\n",
       "  <thead>\n",
       "    <tr style=\"text-align: right;\">\n",
       "      <th></th>\n",
       "      <th>Country Code</th>\n",
       "      <th>Country</th>\n",
       "    </tr>\n",
       "  </thead>\n",
       "  <tbody>\n",
       "    <tr>\n",
       "      <th>0</th>\n",
       "      <td>1</td>\n",
       "      <td>India</td>\n",
       "    </tr>\n",
       "    <tr>\n",
       "      <th>1</th>\n",
       "      <td>14</td>\n",
       "      <td>Australia</td>\n",
       "    </tr>\n",
       "    <tr>\n",
       "      <th>2</th>\n",
       "      <td>30</td>\n",
       "      <td>Brazil</td>\n",
       "    </tr>\n",
       "    <tr>\n",
       "      <th>3</th>\n",
       "      <td>37</td>\n",
       "      <td>Canada</td>\n",
       "    </tr>\n",
       "    <tr>\n",
       "      <th>4</th>\n",
       "      <td>94</td>\n",
       "      <td>Indonesia</td>\n",
       "    </tr>\n",
       "    <tr>\n",
       "      <th>5</th>\n",
       "      <td>148</td>\n",
       "      <td>New Zealand</td>\n",
       "    </tr>\n",
       "    <tr>\n",
       "      <th>6</th>\n",
       "      <td>162</td>\n",
       "      <td>Phillipines</td>\n",
       "    </tr>\n",
       "    <tr>\n",
       "      <th>7</th>\n",
       "      <td>166</td>\n",
       "      <td>Qatar</td>\n",
       "    </tr>\n",
       "    <tr>\n",
       "      <th>8</th>\n",
       "      <td>184</td>\n",
       "      <td>Singapore</td>\n",
       "    </tr>\n",
       "    <tr>\n",
       "      <th>9</th>\n",
       "      <td>189</td>\n",
       "      <td>South Africa</td>\n",
       "    </tr>\n",
       "    <tr>\n",
       "      <th>10</th>\n",
       "      <td>191</td>\n",
       "      <td>Sri Lanka</td>\n",
       "    </tr>\n",
       "    <tr>\n",
       "      <th>11</th>\n",
       "      <td>208</td>\n",
       "      <td>Turkey</td>\n",
       "    </tr>\n",
       "    <tr>\n",
       "      <th>12</th>\n",
       "      <td>214</td>\n",
       "      <td>UAE</td>\n",
       "    </tr>\n",
       "    <tr>\n",
       "      <th>13</th>\n",
       "      <td>215</td>\n",
       "      <td>United Kingdom</td>\n",
       "    </tr>\n",
       "    <tr>\n",
       "      <th>14</th>\n",
       "      <td>216</td>\n",
       "      <td>United States</td>\n",
       "    </tr>\n",
       "  </tbody>\n",
       "</table>\n",
       "</div>"
      ],
      "text/plain": [
       "    Country Code         Country\n",
       "0              1           India\n",
       "1             14       Australia\n",
       "2             30          Brazil\n",
       "3             37          Canada\n",
       "4             94       Indonesia\n",
       "5            148     New Zealand\n",
       "6            162     Phillipines\n",
       "7            166           Qatar\n",
       "8            184       Singapore\n",
       "9            189    South Africa\n",
       "10           191       Sri Lanka\n",
       "11           208          Turkey\n",
       "12           214             UAE\n",
       "13           215  United Kingdom\n",
       "14           216   United States"
      ]
     },
     "execution_count": 18,
     "metadata": {},
     "output_type": "execute_result"
    }
   ],
   "source": [
    "da"
   ]
  },
  {
   "cell_type": "markdown",
   "id": "a5c08841",
   "metadata": {},
   "source": [
    "Though the 'Currency' column has 12 distinct currencies, we have to get 14 exchange rates as there are 14 countries, excluding India. "
   ]
  },
  {
   "cell_type": "markdown",
   "id": "b3428bb1",
   "metadata": {},
   "source": [
    "##### Exchange Rates:\n",
    "* Indian Rupees: US Dollar = 0.013\n",
    "* Indian Rupees: Pound Sterling = 0.010\n",
    "* Indian Rupees: UAE Dirham = 0.047\n",
    "* Indian Rupees: Turkish Lira = 0.20\n",
    "* Indian Rupees: Sri Lankan Rupee = 4.71\n",
    "* Indian Rupees: South African Rand = 0.21\n",
    "* Indian Rupees: Singapore Dollar = 0.018\n",
    "* Indian Rupees: Qatar Rial = 0.047\n",
    "* Indian Rupees: Philipines Botswanan Pula = 0.16\n",
    "* Indian Rupees: New Zealand Dollar = 0.020\n",
    "* Indian Rupees: Indonesian Rupiah = 189.09\n",
    "* Indian Rupees: Canadian Dollar = 0.017\n",
    "* Indian Rupees: Brazilian Real = 0.064\n",
    "* Indian Rupees: Australian Dollar = 0.018 "
   ]
  },
  {
   "cell_type": "code",
   "execution_count": 19,
   "id": "c19b438c",
   "metadata": {},
   "outputs": [],
   "source": [
    "# Add country column from Country-Code file to Data file based on country code\n",
    "df=df.join(da.set_index('Country Code'), on='Country Code')"
   ]
  },
  {
   "cell_type": "code",
   "execution_count": 20,
   "id": "bb95a694",
   "metadata": {},
   "outputs": [],
   "source": [
    "# Create a new column, using exchange rates, for average cost for 2 in Indian Rupees\n",
    "df.loc[df.Country.str.contains('Indo'), ['Average Cost for 2/ Rs.']] = round(df['Average Cost for two'] / 189.09)\n",
    "df.loc[df.Country.str.contains('States'), ['Average Cost for 2/ Rs.']] = round(df['Average Cost for two'] / 0.013)\n",
    "df.loc[df.Country.str.contains('King'), ['Average Cost for 2/ Rs.']] = round(df['Average Cost for two'] / 0.010)\n",
    "df.loc[df.Country.str.contains('UAE'), ['Average Cost for 2/ Rs.']] = round(df['Average Cost for two'] / 0.047)\n",
    "df.loc[df.Country.str.contains('Turk'), ['Average Cost for 2/ Rs.']] = round(df['Average Cost for two'] / 0.20)\n",
    "df.loc[df.Country.str.contains('Sri'), ['Average Cost for 2/ Rs.']] = round(df['Average Cost for two'] / 4.71)\n",
    "df.loc[df.Country.str.contains('Cand'), ['Average Cost for 2/ Rs.']] = round(df['Average Cost for two'] / 0.017)\n",
    "df.loc[df.Country.str.contains('Afr'), ['Average Cost for 2/ Rs.']] = round(df['Average Cost for two'] / 0.21)\n",
    "df.loc[df.Country.str.contains('Aus'), ['Average Cost for 2/ Rs.']] = round(df['Average Cost for two'] / 0.018)\n",
    "df.loc[df.Country.str.contains('India'), ['Average Cost for 2/ Rs.']] = df['Average Cost for two']\n",
    "df.loc[df.Country.str.contains('Phil'), ['Average Cost for 2/ Rs.']] = round(df['Average Cost for two'] / 0.16)\n",
    "df.loc[df.Country.str.contains('Sing'), ['Average Cost for 2/ Rs.']] = round(df['Average Cost for two'] / 0.018)\n",
    "df.loc[df.Country.str.contains('Qat'), ['Average Cost for 2/ Rs.']] = round(df['Average Cost for two'] / 0.047)\n",
    "df.loc[df.Country.str.contains('New'), ['Average Cost for 2/ Rs.']] = round(df['Average Cost for two'] / 0.020)\n",
    "df.loc[df.Country.str.contains('Braz'), ['Average Cost for 2/ Rs.']] = round(df['Average Cost for two'] / 0.064)"
   ]
  },
  {
   "cell_type": "markdown",
   "id": "ed3ac884",
   "metadata": {},
   "source": [
    "#### * Price Variables"
   ]
  },
  {
   "cell_type": "code",
   "execution_count": 21,
   "id": "33d286f0",
   "metadata": {},
   "outputs": [
    {
     "data": {
      "text/html": [
       "<div>\n",
       "<style scoped>\n",
       "    .dataframe tbody tr th:only-of-type {\n",
       "        vertical-align: middle;\n",
       "    }\n",
       "\n",
       "    .dataframe tbody tr th {\n",
       "        vertical-align: top;\n",
       "    }\n",
       "\n",
       "    .dataframe thead th {\n",
       "        text-align: right;\n",
       "    }\n",
       "</style>\n",
       "<table border=\"1\" class=\"dataframe\">\n",
       "  <thead>\n",
       "    <tr style=\"text-align: right;\">\n",
       "      <th></th>\n",
       "      <th>Restaurant ID</th>\n",
       "      <th>Restaurant Name</th>\n",
       "      <th>Country Code</th>\n",
       "      <th>City</th>\n",
       "      <th>Address</th>\n",
       "      <th>Locality</th>\n",
       "      <th>Locality Verbose</th>\n",
       "      <th>Longitude</th>\n",
       "      <th>Latitude</th>\n",
       "      <th>Cuisines</th>\n",
       "      <th>...</th>\n",
       "      <th>Currency</th>\n",
       "      <th>Has Table booking</th>\n",
       "      <th>Has Online delivery</th>\n",
       "      <th>Price range</th>\n",
       "      <th>Aggregate rating</th>\n",
       "      <th>Rating color</th>\n",
       "      <th>Rating text</th>\n",
       "      <th>Votes</th>\n",
       "      <th>Country</th>\n",
       "      <th>Average Cost for 2/ Rs.</th>\n",
       "    </tr>\n",
       "  </thead>\n",
       "  <tbody>\n",
       "  </tbody>\n",
       "</table>\n",
       "<p>0 rows × 21 columns</p>\n",
       "</div>"
      ],
      "text/plain": [
       "Empty DataFrame\n",
       "Columns: [Restaurant ID, Restaurant Name, Country Code, City, Address, Locality, Locality Verbose, Longitude, Latitude, Cuisines, Average Cost for two, Currency, Has Table booking, Has Online delivery, Price range, Aggregate rating, Rating color, Rating text, Votes, Country, Average Cost for 2/ Rs.]\n",
       "Index: []\n",
       "\n",
       "[0 rows x 21 columns]"
      ]
     },
     "execution_count": 21,
     "metadata": {},
     "output_type": "execute_result"
    }
   ],
   "source": [
    "df.loc[(df['Price range'] < 1) | (df['Price range'] > 4)]"
   ]
  },
  {
   "cell_type": "markdown",
   "id": "f2687fc9",
   "metadata": {},
   "source": [
    "Entries in the 'Price range' column are within the 1-4 range."
   ]
  },
  {
   "cell_type": "code",
   "execution_count": 22,
   "id": "45bf4cd6",
   "metadata": {},
   "outputs": [
    {
     "data": {
      "text/plain": [
       "(18, 21)"
      ]
     },
     "execution_count": 22,
     "metadata": {},
     "output_type": "execute_result"
    }
   ],
   "source": [
    "df.loc[(df['Average Cost for two'] == 0)].shape"
   ]
  },
  {
   "cell_type": "markdown",
   "id": "1fcdbbe7",
   "metadata": {},
   "source": [
    "There are 18 entries where the average cost for two is not given. However the 'Price range' column can indicate the cost. "
   ]
  },
  {
   "cell_type": "code",
   "execution_count": 23,
   "id": "08066acf",
   "metadata": {},
   "outputs": [
    {
     "data": {
      "text/html": [
       "<div>\n",
       "<style scoped>\n",
       "    .dataframe tbody tr th:only-of-type {\n",
       "        vertical-align: middle;\n",
       "    }\n",
       "\n",
       "    .dataframe tbody tr th {\n",
       "        vertical-align: top;\n",
       "    }\n",
       "\n",
       "    .dataframe thead th {\n",
       "        text-align: right;\n",
       "    }\n",
       "</style>\n",
       "<table border=\"1\" class=\"dataframe\">\n",
       "  <thead>\n",
       "    <tr style=\"text-align: right;\">\n",
       "      <th></th>\n",
       "      <th>min</th>\n",
       "      <th>max</th>\n",
       "    </tr>\n",
       "    <tr>\n",
       "      <th>Price range</th>\n",
       "      <th></th>\n",
       "      <th></th>\n",
       "    </tr>\n",
       "  </thead>\n",
       "  <tbody>\n",
       "    <tr>\n",
       "      <th>1</th>\n",
       "      <td>0.0</td>\n",
       "      <td>1500.0</td>\n",
       "    </tr>\n",
       "    <tr>\n",
       "      <th>2</th>\n",
       "      <td>150.0</td>\n",
       "      <td>3750.0</td>\n",
       "    </tr>\n",
       "    <tr>\n",
       "      <th>3</th>\n",
       "      <td>300.0</td>\n",
       "      <td>7500.0</td>\n",
       "    </tr>\n",
       "    <tr>\n",
       "      <th>4</th>\n",
       "      <td>600.0</td>\n",
       "      <td>37500.0</td>\n",
       "    </tr>\n",
       "  </tbody>\n",
       "</table>\n",
       "</div>"
      ],
      "text/plain": [
       "               min      max\n",
       "Price range                \n",
       "1              0.0   1500.0\n",
       "2            150.0   3750.0\n",
       "3            300.0   7500.0\n",
       "4            600.0  37500.0"
      ]
     },
     "execution_count": 23,
     "metadata": {},
     "output_type": "execute_result"
    }
   ],
   "source": [
    "df.groupby(['Price range'])['Average Cost for 2/ Rs.'].agg([min, max])"
   ]
  },
  {
   "cell_type": "markdown",
   "id": "16a8e7d0",
   "metadata": {},
   "source": [
    "As the average cost for 2 increases the Price range value also increases. However, there is significant overlap with average cost and its price range value.  "
   ]
  },
  {
   "cell_type": "markdown",
   "id": "da1417e6",
   "metadata": {},
   "source": [
    "#### * Rating & Vote Variables"
   ]
  },
  {
   "cell_type": "code",
   "execution_count": 24,
   "id": "501cd2d8",
   "metadata": {},
   "outputs": [
    {
     "data": {
      "text/plain": [
       "(2148, 21)"
      ]
     },
     "execution_count": 24,
     "metadata": {},
     "output_type": "execute_result"
    }
   ],
   "source": [
    "df.loc[(df['Aggregate rating'] < 1) | (df['Aggregate rating'] > 5)].shape"
   ]
  },
  {
   "cell_type": "markdown",
   "id": "8e2df066",
   "metadata": {},
   "source": [
    "There are 2148 entries that have no ratings. These would have to be **removed** when determining what variables affect rating. This is clearer to see in the following chart."
   ]
  },
  {
   "cell_type": "code",
   "execution_count": 25,
   "id": "4824976e",
   "metadata": {},
   "outputs": [
    {
     "data": {
      "image/png": "[encoded data removed]",
      "text/plain": [
       "<Figure size 720x360 with 1 Axes>"
      ]
     },
     "metadata": {
      "needs_background": "light"
     },
     "output_type": "display_data"
    }
   ],
   "source": [
    "# Histogram for rating \n",
    "plt.figure(figsize= (10,5))\n",
    "sns.histplot(x = 'Aggregate rating', data = df, bins = 100)\n",
    "plt.show()"
   ]
  },
  {
   "cell_type": "code",
   "execution_count": 26,
   "id": "0ba32e9d",
   "metadata": {},
   "outputs": [
    {
     "data": {
      "text/plain": [
       "(571, 21)"
      ]
     },
     "execution_count": 26,
     "metadata": {},
     "output_type": "execute_result"
    }
   ],
   "source": [
    "df.loc[(df['Aggregate rating'] < 1) & (df['Votes'] > 1)].shape"
   ]
  },
  {
   "cell_type": "markdown",
   "id": "99bb6133",
   "metadata": {},
   "source": [
    "571 restaurants have 1+ votes despite not having any rating. "
   ]
  },
  {
   "cell_type": "markdown",
   "id": "a794785e",
   "metadata": {},
   "source": [
    "### Outliers"
   ]
  },
  {
   "cell_type": "code",
   "execution_count": 27,
   "id": "2bfbdb94",
   "metadata": {},
   "outputs": [
    {
     "data": {
      "text/html": [
       "<div>\n",
       "<style scoped>\n",
       "    .dataframe tbody tr th:only-of-type {\n",
       "        vertical-align: middle;\n",
       "    }\n",
       "\n",
       "    .dataframe tbody tr th {\n",
       "        vertical-align: top;\n",
       "    }\n",
       "\n",
       "    .dataframe thead th {\n",
       "        text-align: right;\n",
       "    }\n",
       "</style>\n",
       "<table border=\"1\" class=\"dataframe\">\n",
       "  <thead>\n",
       "    <tr style=\"text-align: right;\">\n",
       "      <th></th>\n",
       "      <th>Restaurant ID</th>\n",
       "      <th>Country Code</th>\n",
       "      <th>Longitude</th>\n",
       "      <th>Latitude</th>\n",
       "      <th>Average Cost for two</th>\n",
       "      <th>Price range</th>\n",
       "      <th>Aggregate rating</th>\n",
       "      <th>Votes</th>\n",
       "      <th>Average Cost for 2/ Rs.</th>\n",
       "    </tr>\n",
       "  </thead>\n",
       "  <tbody>\n",
       "    <tr>\n",
       "      <th>count</th>\n",
       "      <td>9.551000e+03</td>\n",
       "      <td>9551.000000</td>\n",
       "      <td>9551.000000</td>\n",
       "      <td>9551.000000</td>\n",
       "      <td>9551.000000</td>\n",
       "      <td>9551.000000</td>\n",
       "      <td>9551.000000</td>\n",
       "      <td>9551.000000</td>\n",
       "      <td>9547.000000</td>\n",
       "    </tr>\n",
       "    <tr>\n",
       "      <th>mean</th>\n",
       "      <td>9.051128e+06</td>\n",
       "      <td>18.365616</td>\n",
       "      <td>64.126574</td>\n",
       "      <td>25.854381</td>\n",
       "      <td>1199.210763</td>\n",
       "      <td>1.804837</td>\n",
       "      <td>2.666370</td>\n",
       "      <td>156.909748</td>\n",
       "      <td>819.537237</td>\n",
       "    </tr>\n",
       "    <tr>\n",
       "      <th>std</th>\n",
       "      <td>8.791521e+06</td>\n",
       "      <td>56.750546</td>\n",
       "      <td>41.467058</td>\n",
       "      <td>11.007935</td>\n",
       "      <td>16121.183073</td>\n",
       "      <td>0.905609</td>\n",
       "      <td>1.516378</td>\n",
       "      <td>430.169145</td>\n",
       "      <td>1245.328734</td>\n",
       "    </tr>\n",
       "    <tr>\n",
       "      <th>min</th>\n",
       "      <td>5.300000e+01</td>\n",
       "      <td>1.000000</td>\n",
       "      <td>-157.948486</td>\n",
       "      <td>-41.330428</td>\n",
       "      <td>0.000000</td>\n",
       "      <td>1.000000</td>\n",
       "      <td>0.000000</td>\n",
       "      <td>0.000000</td>\n",
       "      <td>0.000000</td>\n",
       "    </tr>\n",
       "    <tr>\n",
       "      <th>25%</th>\n",
       "      <td>3.019625e+05</td>\n",
       "      <td>1.000000</td>\n",
       "      <td>77.081343</td>\n",
       "      <td>28.478713</td>\n",
       "      <td>250.000000</td>\n",
       "      <td>1.000000</td>\n",
       "      <td>2.500000</td>\n",
       "      <td>5.000000</td>\n",
       "      <td>300.000000</td>\n",
       "    </tr>\n",
       "    <tr>\n",
       "      <th>50%</th>\n",
       "      <td>6.004089e+06</td>\n",
       "      <td>1.000000</td>\n",
       "      <td>77.191964</td>\n",
       "      <td>28.570469</td>\n",
       "      <td>400.000000</td>\n",
       "      <td>2.000000</td>\n",
       "      <td>3.200000</td>\n",
       "      <td>31.000000</td>\n",
       "      <td>500.000000</td>\n",
       "    </tr>\n",
       "    <tr>\n",
       "      <th>75%</th>\n",
       "      <td>1.835229e+07</td>\n",
       "      <td>1.000000</td>\n",
       "      <td>77.282006</td>\n",
       "      <td>28.642758</td>\n",
       "      <td>700.000000</td>\n",
       "      <td>2.000000</td>\n",
       "      <td>3.700000</td>\n",
       "      <td>131.000000</td>\n",
       "      <td>800.000000</td>\n",
       "    </tr>\n",
       "    <tr>\n",
       "      <th>max</th>\n",
       "      <td>1.850065e+07</td>\n",
       "      <td>216.000000</td>\n",
       "      <td>174.832089</td>\n",
       "      <td>55.976980</td>\n",
       "      <td>800000.000000</td>\n",
       "      <td>4.000000</td>\n",
       "      <td>4.900000</td>\n",
       "      <td>10934.000000</td>\n",
       "      <td>37500.000000</td>\n",
       "    </tr>\n",
       "  </tbody>\n",
       "</table>\n",
       "</div>"
      ],
      "text/plain": [
       "       Restaurant ID  Country Code    Longitude     Latitude  \\\n",
       "count   9.551000e+03   9551.000000  9551.000000  9551.000000   \n",
       "mean    9.051128e+06     18.365616    64.126574    25.854381   \n",
       "std     8.791521e+06     56.750546    41.467058    11.007935   \n",
       "min     5.300000e+01      1.000000  -157.948486   -41.330428   \n",
       "25%     3.019625e+05      1.000000    77.081343    28.478713   \n",
       "50%     6.004089e+06      1.000000    77.191964    28.570469   \n",
       "75%     1.835229e+07      1.000000    77.282006    28.642758   \n",
       "max     1.850065e+07    216.000000   174.832089    55.976980   \n",
       "\n",
       "       Average Cost for two  Price range  Aggregate rating         Votes  \\\n",
       "count           9551.000000  9551.000000       9551.000000   9551.000000   \n",
       "mean            1199.210763     1.804837          2.666370    156.909748   \n",
       "std            16121.183073     0.905609          1.516378    430.169145   \n",
       "min                0.000000     1.000000          0.000000      0.000000   \n",
       "25%              250.000000     1.000000          2.500000      5.000000   \n",
       "50%              400.000000     2.000000          3.200000     31.000000   \n",
       "75%              700.000000     2.000000          3.700000    131.000000   \n",
       "max           800000.000000     4.000000          4.900000  10934.000000   \n",
       "\n",
       "       Average Cost for 2/ Rs.  \n",
       "count              9547.000000  \n",
       "mean                819.537237  \n",
       "std                1245.328734  \n",
       "min                   0.000000  \n",
       "25%                 300.000000  \n",
       "50%                 500.000000  \n",
       "75%                 800.000000  \n",
       "max               37500.000000  "
      ]
     },
     "execution_count": 27,
     "metadata": {},
     "output_type": "execute_result"
    }
   ],
   "source": [
    "df.describe()"
   ]
  },
  {
   "cell_type": "code",
   "execution_count": 28,
   "id": "2f9b8984",
   "metadata": {},
   "outputs": [
    {
     "data": {
      "image/png": "[encoded data removed]",
      "text/plain": [
       "<Figure size 1080x360 with 1 Axes>"
      ]
     },
     "metadata": {
      "needs_background": "light"
     },
     "output_type": "display_data"
    }
   ],
   "source": [
    "# Boxplot for Average Cost for 2/ Rs.\n",
    "plt.figure(figsize= (15, 5))\n",
    "sns.boxplot(x = 'Average Cost for 2/ Rs.', data = df,color = 'mediumaquamarine',)\n",
    "plt.show()"
   ]
  },
  {
   "cell_type": "markdown",
   "id": "78368206",
   "metadata": {},
   "source": [
    "The boxplot shows many outliers for the average price for 2. This could be explained by looking at the restaurant, price range and location - especially for values above 20000 Rs (~£200)."
   ]
  },
  {
   "cell_type": "code",
   "execution_count": 29,
   "id": "a8ccad65",
   "metadata": {},
   "outputs": [
    {
     "data": {
      "text/html": [
       "<div>\n",
       "<style scoped>\n",
       "    .dataframe tbody tr th:only-of-type {\n",
       "        vertical-align: middle;\n",
       "    }\n",
       "\n",
       "    .dataframe tbody tr th {\n",
       "        vertical-align: top;\n",
       "    }\n",
       "\n",
       "    .dataframe thead th {\n",
       "        text-align: right;\n",
       "    }\n",
       "</style>\n",
       "<table border=\"1\" class=\"dataframe\">\n",
       "  <thead>\n",
       "    <tr style=\"text-align: right;\">\n",
       "      <th></th>\n",
       "      <th>Restaurant ID</th>\n",
       "      <th>Restaurant Name</th>\n",
       "      <th>Country Code</th>\n",
       "      <th>City</th>\n",
       "      <th>Address</th>\n",
       "      <th>Locality</th>\n",
       "      <th>Locality Verbose</th>\n",
       "      <th>Longitude</th>\n",
       "      <th>Latitude</th>\n",
       "      <th>Cuisines</th>\n",
       "      <th>...</th>\n",
       "      <th>Currency</th>\n",
       "      <th>Has Table booking</th>\n",
       "      <th>Has Online delivery</th>\n",
       "      <th>Price range</th>\n",
       "      <th>Aggregate rating</th>\n",
       "      <th>Rating color</th>\n",
       "      <th>Rating text</th>\n",
       "      <th>Votes</th>\n",
       "      <th>Country</th>\n",
       "      <th>Average Cost for 2/ Rs.</th>\n",
       "    </tr>\n",
       "  </thead>\n",
       "  <tbody>\n",
       "    <tr>\n",
       "      <th>24</th>\n",
       "      <td>6300010</td>\n",
       "      <td>Spiral - Sofitel Philippine Plaza Manila</td>\n",
       "      <td>162</td>\n",
       "      <td>Pasay City</td>\n",
       "      <td>Plaza Level, Sofitel Philippine Plaza Manila, ...</td>\n",
       "      <td>Sofitel Philippine Plaza Manila, Pasay City</td>\n",
       "      <td>Sofitel Philippine Plaza Manila, Pasay City, P...</td>\n",
       "      <td>120.980090</td>\n",
       "      <td>14.552990</td>\n",
       "      <td>European, Asian, Indian</td>\n",
       "      <td>...</td>\n",
       "      <td>Botswana Pula(P)</td>\n",
       "      <td>Yes</td>\n",
       "      <td>No</td>\n",
       "      <td>4</td>\n",
       "      <td>4.9</td>\n",
       "      <td>Dark Green</td>\n",
       "      <td>Excellent</td>\n",
       "      <td>621</td>\n",
       "      <td>Phillipines</td>\n",
       "      <td>37500.0</td>\n",
       "    </tr>\n",
       "    <tr>\n",
       "      <th>63</th>\n",
       "      <td>6300002</td>\n",
       "      <td>Heat - Edsa Shangri-La</td>\n",
       "      <td>162</td>\n",
       "      <td>Mandaluyong City</td>\n",
       "      <td>Edsa Shangri-La, 1 Garden Way, Ortigas, Mandal...</td>\n",
       "      <td>Edsa Shangri-La, Ortigas, Mandaluyong City</td>\n",
       "      <td>Edsa Shangri-La, Ortigas, Mandaluyong City, Ma...</td>\n",
       "      <td>121.056831</td>\n",
       "      <td>14.581404</td>\n",
       "      <td>Seafood, Asian, Filipino, Indian</td>\n",
       "      <td>...</td>\n",
       "      <td>Botswana Pula(P)</td>\n",
       "      <td>Yes</td>\n",
       "      <td>No</td>\n",
       "      <td>4</td>\n",
       "      <td>4.4</td>\n",
       "      <td>Green</td>\n",
       "      <td>Very Good</td>\n",
       "      <td>270</td>\n",
       "      <td>Phillipines</td>\n",
       "      <td>25000.0</td>\n",
       "    </tr>\n",
       "    <tr>\n",
       "      <th>3477</th>\n",
       "      <td>18496057</td>\n",
       "      <td>Restaurant Andre</td>\n",
       "      <td>184</td>\n",
       "      <td>Singapore</td>\n",
       "      <td>41 Bukit Pasoh Road 089855</td>\n",
       "      <td>Cantonment Road, Outram</td>\n",
       "      <td>Cantonment Road, Outram, Singapore</td>\n",
       "      <td>103.840360</td>\n",
       "      <td>1.279420</td>\n",
       "      <td>French, Mediterranean, European</td>\n",
       "      <td>...</td>\n",
       "      <td>Dollar($)</td>\n",
       "      <td>No</td>\n",
       "      <td>No</td>\n",
       "      <td>4</td>\n",
       "      <td>3.8</td>\n",
       "      <td>Yellow</td>\n",
       "      <td>Good</td>\n",
       "      <td>33</td>\n",
       "      <td>Singapore</td>\n",
       "      <td>27778.0</td>\n",
       "    </tr>\n",
       "    <tr>\n",
       "      <th>4713</th>\n",
       "      <td>18483222</td>\n",
       "      <td>Jaan</td>\n",
       "      <td>184</td>\n",
       "      <td>Singapore</td>\n",
       "      <td>2 Stamford Road, Level 70 Equinox Complex 178882</td>\n",
       "      <td>City Hall, Downtown Core</td>\n",
       "      <td>City Hall, Downtown Core, Singapore</td>\n",
       "      <td>103.853605</td>\n",
       "      <td>1.293221</td>\n",
       "      <td>French</td>\n",
       "      <td>...</td>\n",
       "      <td>Dollar($)</td>\n",
       "      <td>No</td>\n",
       "      <td>No</td>\n",
       "      <td>4</td>\n",
       "      <td>3.8</td>\n",
       "      <td>Yellow</td>\n",
       "      <td>Good</td>\n",
       "      <td>35</td>\n",
       "      <td>Singapore</td>\n",
       "      <td>23889.0</td>\n",
       "    </tr>\n",
       "    <tr>\n",
       "      <th>7412</th>\n",
       "      <td>6113680</td>\n",
       "      <td>Restaurant Gordon Ramsay</td>\n",
       "      <td>215</td>\n",
       "      <td>London</td>\n",
       "      <td>68 Royal Hospital Road, Chelsea, London SW3 4HP</td>\n",
       "      <td>Chelsea</td>\n",
       "      <td>Chelsea</td>\n",
       "      <td>-0.162092</td>\n",
       "      <td>51.485509</td>\n",
       "      <td>French</td>\n",
       "      <td>...</td>\n",
       "      <td>Pounds(å£)</td>\n",
       "      <td>No</td>\n",
       "      <td>No</td>\n",
       "      <td>4</td>\n",
       "      <td>4.7</td>\n",
       "      <td>Dark Green</td>\n",
       "      <td>Excellent</td>\n",
       "      <td>320</td>\n",
       "      <td>United Kingdom</td>\n",
       "      <td>23000.0</td>\n",
       "    </tr>\n",
       "  </tbody>\n",
       "</table>\n",
       "<p>5 rows × 21 columns</p>\n",
       "</div>"
      ],
      "text/plain": [
       "      Restaurant ID                           Restaurant Name  Country Code  \\\n",
       "24          6300010  Spiral - Sofitel Philippine Plaza Manila           162   \n",
       "63          6300002                    Heat - Edsa Shangri-La           162   \n",
       "3477       18496057                          Restaurant Andre           184   \n",
       "4713       18483222                                      Jaan           184   \n",
       "7412        6113680                  Restaurant Gordon Ramsay           215   \n",
       "\n",
       "                  City                                            Address  \\\n",
       "24          Pasay City  Plaza Level, Sofitel Philippine Plaza Manila, ...   \n",
       "63    Mandaluyong City  Edsa Shangri-La, 1 Garden Way, Ortigas, Mandal...   \n",
       "3477         Singapore                         41 Bukit Pasoh Road 089855   \n",
       "4713         Singapore   2 Stamford Road, Level 70 Equinox Complex 178882   \n",
       "7412            London    68 Royal Hospital Road, Chelsea, London SW3 4HP   \n",
       "\n",
       "                                         Locality  \\\n",
       "24    Sofitel Philippine Plaza Manila, Pasay City   \n",
       "63     Edsa Shangri-La, Ortigas, Mandaluyong City   \n",
       "3477                      Cantonment Road, Outram   \n",
       "4713                     City Hall, Downtown Core   \n",
       "7412                                      Chelsea   \n",
       "\n",
       "                                       Locality Verbose   Longitude  \\\n",
       "24    Sofitel Philippine Plaza Manila, Pasay City, P...  120.980090   \n",
       "63    Edsa Shangri-La, Ortigas, Mandaluyong City, Ma...  121.056831   \n",
       "3477                 Cantonment Road, Outram, Singapore  103.840360   \n",
       "4713                City Hall, Downtown Core, Singapore  103.853605   \n",
       "7412                                            Chelsea   -0.162092   \n",
       "\n",
       "       Latitude                          Cuisines  ...          Currency  \\\n",
       "24    14.552990           European, Asian, Indian  ...  Botswana Pula(P)   \n",
       "63    14.581404  Seafood, Asian, Filipino, Indian  ...  Botswana Pula(P)   \n",
       "3477   1.279420   French, Mediterranean, European  ...         Dollar($)   \n",
       "4713   1.293221                            French  ...         Dollar($)   \n",
       "7412  51.485509                            French  ...        Pounds(å£)   \n",
       "\n",
       "     Has Table booking Has Online delivery Price range  Aggregate rating  \\\n",
       "24                 Yes                  No           4               4.9   \n",
       "63                 Yes                  No           4               4.4   \n",
       "3477                No                  No           4               3.8   \n",
       "4713                No                  No           4               3.8   \n",
       "7412                No                  No           4               4.7   \n",
       "\n",
       "      Rating color Rating text Votes         Country Average Cost for 2/ Rs.  \n",
       "24      Dark Green   Excellent   621     Phillipines                 37500.0  \n",
       "63           Green   Very Good   270     Phillipines                 25000.0  \n",
       "3477        Yellow        Good    33       Singapore                 27778.0  \n",
       "4713        Yellow        Good    35       Singapore                 23889.0  \n",
       "7412    Dark Green   Excellent   320  United Kingdom                 23000.0  \n",
       "\n",
       "[5 rows x 21 columns]"
      ]
     },
     "execution_count": 29,
     "metadata": {},
     "output_type": "execute_result"
    }
   ],
   "source": [
    "df.loc[df['Average Cost for 2/ Rs.'] > 20000]"
   ]
  },
  {
   "cell_type": "markdown",
   "id": "06ee02d0",
   "metadata": {},
   "source": [
    "The restaurants mentioned are expected to be ~£100 per head."
   ]
  },
  {
   "cell_type": "code",
   "execution_count": 30,
   "id": "d5955fac",
   "metadata": {},
   "outputs": [
    {
     "data": {
      "image/png": "[encoded data removed]",
      "text/plain": [
       "<Figure size 720x360 with 1 Axes>"
      ]
     },
     "metadata": {
      "needs_background": "light"
     },
     "output_type": "display_data"
    }
   ],
   "source": [
    "# Histogram for Price Range\n",
    "plt.figure(figsize= (10,5))\n",
    "sns.histplot(x = 'Price range', data = df, bins = 4)\n",
    "plt.show()"
   ]
  },
  {
   "cell_type": "markdown",
   "id": "11ae53c6",
   "metadata": {},
   "source": [
    "Majority of the restaurants are in the lower range, which explains the 'average price for 2' boxplot. "
   ]
  },
  {
   "cell_type": "code",
   "execution_count": 31,
   "id": "06ff2b3b",
   "metadata": {},
   "outputs": [
    {
     "data": {
      "image/png": "[encoded data removed]",
      "text/plain": [
       "<Figure size 1080x360 with 1 Axes>"
      ]
     },
     "metadata": {
      "needs_background": "light"
     },
     "output_type": "display_data"
    }
   ],
   "source": [
    "# Boxplot for Votes.\n",
    "plt.figure(figsize= (15, 5))\n",
    "sns.boxplot(x = 'Votes', data = df,color = 'mediumaquamarine',)\n",
    "plt.show()"
   ]
  },
  {
   "cell_type": "markdown",
   "id": "5b7ef054",
   "metadata": {},
   "source": [
    "This boxplot shows extreme values for the number of votes. We can check if this is reasonable with the rating, however more info would be useful e.g. yearly average number of customers.\n",
    "\n",
    "Additionally, restaurants with extreme number of votes are all located in India. Assuming the data was gathered from India this can also explain the presense of outliers?"
   ]
  },
  {
   "cell_type": "code",
   "execution_count": 32,
   "id": "eb90d5d3",
   "metadata": {},
   "outputs": [
    {
     "data": {
      "text/plain": [
       "0.10       0.0\n",
       "0.25       5.0\n",
       "0.50      31.0\n",
       "0.70      97.0\n",
       "0.90     379.0\n",
       "0.95     699.0\n",
       "0.99    1882.5\n",
       "Name: Votes, dtype: float64"
      ]
     },
     "execution_count": 32,
     "metadata": {},
     "output_type": "execute_result"
    }
   ],
   "source": [
    "df.Votes.quantile([0.10,0.25,0.50,0.70,0.90,0.95,0.99])"
   ]
  },
  {
   "cell_type": "markdown",
   "id": "54b01061",
   "metadata": {},
   "source": [
    "99% of Votes occur below 1882 , therefore 300-1882 is an appropriate **cutoff** value e.g. 1000."
   ]
  },
  {
   "cell_type": "code",
   "execution_count": 33,
   "id": "9beedd46",
   "metadata": {},
   "outputs": [],
   "source": [
    "#df.to_excel(\"datajoined.xlsx\")"
   ]
  },
  {
   "cell_type": "markdown",
   "id": "7723c5ac",
   "metadata": {},
   "source": [
    "#### Treatment"
   ]
  },
  {
   "cell_type": "code",
   "execution_count": 34,
   "id": "64107afd",
   "metadata": {},
   "outputs": [],
   "source": [
    "#df.drop(df[(df['Aggregate rating'] < 1)].index, inplace=True)"
   ]
  },
  {
   "cell_type": "code",
   "execution_count": 35,
   "id": "903e4570",
   "metadata": {},
   "outputs": [],
   "source": [
    "#df.drop(df[(df['Votes'] > 1000)].index, inplace=True)"
   ]
  },
  {
   "cell_type": "markdown",
   "id": "29b42cd3",
   "metadata": {},
   "source": [
    "### EDA"
   ]
  },
  {
   "cell_type": "code",
   "execution_count": 36,
   "id": "82f4d0ae",
   "metadata": {},
   "outputs": [
    {
     "data": {
      "image/png": "[encoded data removed]",
      "text/plain": [
       "<Figure size 720x360 with 1 Axes>"
      ]
     },
     "metadata": {
      "needs_background": "light"
     },
     "output_type": "display_data"
    }
   ],
   "source": [
    "# Histogram for Country\n",
    "plt.figure(figsize= (10,5))\n",
    "sns.histplot(x = 'Country', data = df)\n",
    "plt.xticks(rotation=45)\n",
    "plt.show()"
   ]
  },
  {
   "cell_type": "markdown",
   "id": "06c3ddd8",
   "metadata": {},
   "source": [
    "Geographical Distribution of Restaurants can be better seen on the complementary Tableau Dashboard. "
   ]
  },
  {
   "cell_type": "code",
   "execution_count": 37,
   "id": "81a483fa",
   "metadata": {},
   "outputs": [
    {
     "data": {
      "text/plain": [
       "0    New Delhi\n",
       "dtype: object"
      ]
     },
     "execution_count": 37,
     "metadata": {},
     "output_type": "execute_result"
    }
   ],
   "source": [
    "df.City.mode()"
   ]
  },
  {
   "cell_type": "markdown",
   "id": "f875ce87",
   "metadata": {},
   "source": [
    "New Delhi is the city with the most restaurants, at 5473 in total."
   ]
  },
  {
   "cell_type": "code",
   "execution_count": 38,
   "id": "c9356e49",
   "metadata": {},
   "outputs": [
    {
     "data": {
      "text/plain": [
       "Phillip Island      1\n",
       "Huskisson           1\n",
       "East Ballina        1\n",
       "Forrest             1\n",
       "Lorn                1\n",
       "Macedon             1\n",
       "Beechworth          1\n",
       "Mayfield            1\n",
       "Penola              1\n",
       "Paynesville         1\n",
       "Trentham East       1\n",
       "Victor Harbor       1\n",
       "Clatskanie          1\n",
       "Armidale            1\n",
       "Fernley             1\n",
       "Lakeview            1\n",
       "Mc Millan           1\n",
       "Vernonia            1\n",
       "Dicky Beach         1\n",
       "Inverloch           1\n",
       "Lakes Entrance      1\n",
       "Balingup            1\n",
       "Cochrane            1\n",
       "Yorkton             1\n",
       "Flaxton             1\n",
       "Randburg            1\n",
       "Mohali              1\n",
       "Quezon City         1\n",
       "Princeton           1\n",
       "Vineland Station    1\n",
       "Tagaytay City       1\n",
       "Panchkula           1\n",
       "Ojo Caliente        1\n",
       "Bandung             1\n",
       "Middleton Beach     1\n",
       "Winchester Bay      1\n",
       "Montville           1\n",
       "Palm Cove           1\n",
       "Tanunda             1\n",
       "Chatham-Kent        1\n",
       "Consort             1\n",
       "Lincoln             1\n",
       "Monroe              1\n",
       "Potrero             1\n",
       "Weirton             1\n",
       "Miller              1\n",
       "Name: City, dtype: int64"
      ]
     },
     "execution_count": 38,
     "metadata": {},
     "output_type": "execute_result"
    }
   ],
   "source": [
    "f=df.City.value_counts()\n",
    "f.loc[f ==1]"
   ]
  },
  {
   "cell_type": "markdown",
   "id": "e1e682d6",
   "metadata": {},
   "source": [
    "There are many cities with only one restaurant. "
   ]
  },
  {
   "cell_type": "code",
   "execution_count": 39,
   "id": "91e13e74",
   "metadata": {},
   "outputs": [
    {
     "data": {
      "text/plain": [
       "<AxesSubplot:>"
      ]
     },
     "execution_count": 39,
     "metadata": {},
     "output_type": "execute_result"
    },
    {
     "data": {
      "image/png": "[encoded data removed]",
      "text/plain": [
       "<Figure size 432x288 with 1 Axes>"
      ]
     },
     "metadata": {
      "needs_background": "light"
     },
     "output_type": "display_data"
    }
   ],
   "source": [
    "df['Restaurant Name'].value_counts().sort_values(ascending=False)[:5].plot(kind='bar')"
   ]
  },
  {
   "cell_type": "markdown",
   "id": "7238324d",
   "metadata": {},
   "source": [
    "'Cafe Coffee Day' has the most number of chains."
   ]
  },
  {
   "cell_type": "code",
   "execution_count": 40,
   "id": "6f043c23",
   "metadata": {},
   "outputs": [
    {
     "data": {
      "text/plain": [
       "<AxesSubplot:xlabel='Restaurant Name'>"
      ]
     },
     "execution_count": 40,
     "metadata": {},
     "output_type": "execute_result"
    },
    {
     "data": {
      "image/png": "[encoded data removed]",
      "text/plain": [
       "<Figure size 720x360 with 1 Axes>"
      ]
     },
     "metadata": {
      "needs_background": "light"
     },
     "output_type": "display_data"
    }
   ],
   "source": [
    "plt.figure(figsize= (10,5))\n",
    "df.groupby('Restaurant Name')['City'].nunique().sort_values(ascending=False)[:5].plot(kind='bar')"
   ]
  },
  {
   "cell_type": "markdown",
   "id": "e974fa89",
   "metadata": {},
   "source": [
    "'Barbeque Nation' has the best national presence with 22 restaurants across different cities."
   ]
  },
  {
   "cell_type": "code",
   "execution_count": 41,
   "id": "6fae8e80",
   "metadata": {},
   "outputs": [],
   "source": [
    "tb=df['Has Table booking'].value_counts()\n",
    "od=df['Has Online delivery'].value_counts()"
   ]
  },
  {
   "cell_type": "code",
   "execution_count": 42,
   "id": "14be8e30",
   "metadata": {},
   "outputs": [
    {
     "data": {
      "image/png": "[encoded data removed]",
      "text/plain": [
       "<Figure size 1800x576 with 2 Axes>"
      ]
     },
     "metadata": {},
     "output_type": "display_data"
    }
   ],
   "source": [
    "fig, axes = plt.subplots(1,2, figsize = (25,8))\n",
    "tb.plot.pie(radius = 1.2,\n",
    "           autopct = '%.2f %%',  \n",
    "           textprops = {'size' : 16, 'color' : 'steelblue'},\n",
    "           wedgeprops = {'edgecolor' : 'white'},\n",
    "           cmap = 'Set2',  ax = axes[0])\n",
    "axes[0].set_ylabel('')\n",
    "axes[0].set_title('Restaurants with table bookings\\n', size = 18, color = 'steelblue', weight = 'bold')\n",
    "od.plot.pie(radius = 1.2,\n",
    "           autopct = '%.2f %%',  \n",
    "           textprops = {'size' : 16, 'color' : 'steelblue'},\n",
    "           wedgeprops = {'edgecolor' : 'white'},\n",
    "           cmap = 'Set2',  ax = axes[1])\n",
    "axes[1].set_ylabel('')\n",
    "axes[1].set_title('Restaurants with online delivery\\n', size = 18, color = 'steelblue', weight = 'bold')\n",
    "plt.show()"
   ]
  },
  {
   "cell_type": "markdown",
   "id": "c47445b0",
   "metadata": {},
   "source": [
    "A large portion of restaurants have no table bookings and online delivery.<br>\n",
    "The ratio of restaurants that allow bookings vs restaurants that don't is calculated to be 7.2"
   ]
  },
  {
   "cell_type": "code",
   "execution_count": 43,
   "id": "119192ed",
   "metadata": {},
   "outputs": [
    {
     "data": {
      "text/plain": [
       "[Text(0, 0, '138.131'), Text(0, 0, '211.307')]"
      ]
     },
     "execution_count": 43,
     "metadata": {},
     "output_type": "execute_result"
    },
    {
     "data": {
      "image/png": "[encoded data removed]",
      "text/plain": [
       "<Figure size 720x360 with 1 Axes>"
      ]
     },
     "metadata": {
      "needs_background": "light"
     },
     "output_type": "display_data"
    }
   ],
   "source": [
    "plt.figure(figsize= (10,5))\n",
    "ax = sns.barplot(x=\"Has Online delivery\", y=\"Votes\", data=df,ci=None, palette =\"Set2\")\n",
    "ax.bar_label(ax.containers[0])"
   ]
  },
  {
   "cell_type": "markdown",
   "id": "541357e6",
   "metadata": {},
   "source": [
    "The average number of votes for restaurants that deliver are higher than those that don't. "
   ]
  },
  {
   "cell_type": "markdown",
   "id": "c5e0798c",
   "metadata": {},
   "source": [
    "### EDA pt2"
   ]
  },
  {
   "cell_type": "markdown",
   "id": "82f36d57",
   "metadata": {},
   "source": [
    "##### 10 top cuisines across the Cities"
   ]
  },
  {
   "cell_type": "code",
   "execution_count": 44,
   "id": "f1db68aa",
   "metadata": {},
   "outputs": [],
   "source": [
    "cuisines_cleaned=df.Cuisines.dropna() #drop rows that had no entries for Cuisines\n",
    "c_list=[]\n",
    "for n in cuisines_cleaned:\n",
    "    c_list.append(n.split(\", \")) #create a list that contains the list of cuisines for each restaurant"
   ]
  },
  {
   "cell_type": "code",
   "execution_count": 45,
   "id": "a05cf08d",
   "metadata": {},
   "outputs": [],
   "source": [
    "import itertools \n",
    "flattened_list=list(itertools.chain(*c_list)) #change 2d list to 1d "
   ]
  },
  {
   "cell_type": "code",
   "execution_count": 46,
   "id": "f8d20245",
   "metadata": {},
   "outputs": [
    {
     "data": {
      "text/plain": [
       "<AxesSubplot:xlabel='cuisine'>"
      ]
     },
     "execution_count": 46,
     "metadata": {},
     "output_type": "execute_result"
    },
    {
     "data": {
      "image/png": "[encoded data removed]",
      "text/plain": [
       "<Figure size 720x360 with 1 Axes>"
      ]
     },
     "metadata": {
      "needs_background": "light"
     },
     "output_type": "display_data"
    }
   ],
   "source": [
    "cdf = pd.DataFrame({'cuisine': flattened_list})\n",
    "plt.figure(figsize= (10,5))\n",
    "cdf.value_counts().sort_values(ascending=False)[:10].plot(kind='bar')"
   ]
  },
  {
   "cell_type": "markdown",
   "id": "501427c5",
   "metadata": {},
   "source": [
    "##### Maximum and Minimum number of cuisines served at a restaurant."
   ]
  },
  {
   "cell_type": "code",
   "execution_count": 47,
   "id": "58c251f7",
   "metadata": {},
   "outputs": [],
   "source": [
    "def find_maxmin_list(list):\n",
    "    list_len = [len(i) for i in list] #finds length of each list within a list \n",
    "    print(max(list_len))\n",
    "    print(min(list_len))"
   ]
  },
  {
   "cell_type": "code",
   "execution_count": 48,
   "id": "07e94055",
   "metadata": {},
   "outputs": [
    {
     "name": "stdout",
     "output_type": "stream",
     "text": [
      "8\n",
      "1\n"
     ]
    }
   ],
   "source": [
    "find_maxmin_list(c_list)"
   ]
  },
  {
   "cell_type": "markdown",
   "id": "89badbd8",
   "metadata": {},
   "source": [
    "8 is the maximum number of cuisines a restaurants serves, however upon inspection this includes 'healthy foods' and 'beverages'.<br>\n",
    "The minimum number of cuisines is 1. "
   ]
  },
  {
   "cell_type": "markdown",
   "id": "c03f9d7e",
   "metadata": {},
   "source": [
    "##### Most served cuisine in each City"
   ]
  },
  {
   "cell_type": "code",
   "execution_count": 49,
   "id": "b46c0144",
   "metadata": {},
   "outputs": [],
   "source": [
    "from statistics import mode"
   ]
  },
  {
   "cell_type": "code",
   "execution_count": 50,
   "id": "585b41ac",
   "metadata": {},
   "outputs": [],
   "source": [
    "def most_popular_cuisine(city):\n",
    "    a= df.loc[df['City'] == city].Cuisines.dropna()\n",
    "    cc=[]\n",
    "    for n in a:\n",
    "        cc.append(n.split(\", \"))\n",
    "    new_cc=list(itertools.chain(*cc))\n",
    "    print(mode(new_cc))"
   ]
  },
  {
   "cell_type": "markdown",
   "id": "ce4caa90",
   "metadata": {},
   "source": [
    "Change the City name in the following code to see its most popular cuisine:"
   ]
  },
  {
   "cell_type": "code",
   "execution_count": 51,
   "id": "10b86f74",
   "metadata": {},
   "outputs": [
    {
     "name": "stdout",
     "output_type": "stream",
     "text": [
      "North Indian\n"
     ]
    }
   ],
   "source": [
    "most_popular_cuisine('New Delhi') "
   ]
  },
  {
   "cell_type": "markdown",
   "id": "e087ffc5",
   "metadata": {},
   "source": [
    "##### Creating a new file that contains the number of cuisines each restaurants serves"
   ]
  },
  {
   "cell_type": "code",
   "execution_count": 52,
   "id": "8c58fa73",
   "metadata": {},
   "outputs": [],
   "source": [
    "df2=df.loc[:,['Restaurant ID','City','Cuisines']]"
   ]
  },
  {
   "cell_type": "code",
   "execution_count": 53,
   "id": "20849c59",
   "metadata": {},
   "outputs": [],
   "source": [
    "df2.dropna(subset=['Cuisines'],inplace=True) "
   ]
  },
  {
   "cell_type": "code",
   "execution_count": 54,
   "id": "400d9e81",
   "metadata": {},
   "outputs": [],
   "source": [
    "df2['Cuisines'] = df2.Cuisines.apply(lambda x: x.split(', '))"
   ]
  },
  {
   "cell_type": "code",
   "execution_count": 55,
   "id": "7458dc9a",
   "metadata": {},
   "outputs": [],
   "source": [
    "df2[\"Number of Cuisines\"] = df2[\"Cuisines\"].map(lambda x:len(x))"
   ]
  },
  {
   "cell_type": "code",
   "execution_count": 56,
   "id": "215484f5",
   "metadata": {},
   "outputs": [],
   "source": [
    "#df2.to_excel(\"datacuisines.xlsx\")"
   ]
  },
  {
   "cell_type": "markdown",
   "id": "c4dfb4a9",
   "metadata": {},
   "source": [
    "##### Identifying variables that affect rating "
   ]
  },
  {
   "cell_type": "code",
   "execution_count": 64,
   "id": "1715abd8",
   "metadata": {},
   "outputs": [],
   "source": [
    "# Add number of cuisines from df2 to df based on Restaurant ID\n",
    "df3=df.join(df2.set_index('Restaurant ID'), on='Restaurant ID',how='left', lsuffix='_left', rsuffix='_right')"
   ]
  },
  {
   "cell_type": "code",
   "execution_count": 69,
   "id": "b5814e37",
   "metadata": {},
   "outputs": [],
   "source": [
    "#Treating missing ratings and extreme vote values\n",
    "df3.drop(df3[(df3['Aggregate rating'] < 1)].index, inplace=True)\n",
    "df3.drop(df3[(df3['Votes'] > 1000)].index, inplace=True)"
   ]
  },
  {
   "cell_type": "code",
   "execution_count": 70,
   "id": "f1e125e1",
   "metadata": {
    "scrolled": true
   },
   "outputs": [
    {
     "data": {
      "image/png": "[encoded data removed]",
      "text/plain": [
       "<Figure size 288x576 with 2 Axes>"
      ]
     },
     "metadata": {
      "needs_background": "light"
     },
     "output_type": "display_data"
    }
   ],
   "source": [
    "plt.figure(figsize=(4,8))\n",
    "heatmap = sns.heatmap(df3.corr()[['Aggregate rating']].sort_values(by='Aggregate rating', ascending=False), vmin=-1, vmax=1, annot=True, cmap='BrBG')\n",
    "heatmap.set_title('Features Correlating with Aggregate Rating', fontdict={'fontsize':18}, pad=16);"
   ]
  },
  {
   "cell_type": "code",
   "execution_count": 71,
   "id": "e53247d8",
   "metadata": {},
   "outputs": [
    {
     "data": {
      "image/png": "[encoded data removed]",
      "text/plain": [
       "<Figure size 288x576 with 2 Axes>"
      ]
     },
     "metadata": {
      "needs_background": "light"
     },
     "output_type": "display_data"
    }
   ],
   "source": [
    "plt.figure(figsize=(4,8))\n",
    "heatmap = sns.heatmap(df3.corr()[['Votes']].sort_values(by='Votes', ascending=False), vmin=-1, vmax=1, annot=True, cmap='BrBG')\n",
    "heatmap.set_title('Features Correlating with Votes', fontdict={'fontsize':18}, pad=16);"
   ]
  },
  {
   "cell_type": "markdown",
   "id": "5d5d7457",
   "metadata": {},
   "source": [
    "This correlation map shows that some of the variables such as price range and cost may have some affect on the rating of each restaurant. However, all of these correlations are weak. "
   ]
  },
  {
   "cell_type": "markdown",
   "id": "06b7a015",
   "metadata": {},
   "source": [
    "The complementary Tableau Dashboard explores how different variable affect rating and votes."
   ]
  },
  {
   "cell_type": "markdown",
   "id": "39a2c88a",
   "metadata": {},
   "source": [
    "### Machine Learning & Encoding"
   ]
  },
  {
   "cell_type": "markdown",
   "id": "382bf3db",
   "metadata": {},
   "source": [
    "Tableau Dashboard includes clustering analysis "
   ]
  },
  {
   "cell_type": "code",
   "execution_count": null,
   "id": "e821ceff",
   "metadata": {},
   "outputs": [],
   "source": []
  },
  {
   "cell_type": "code",
   "execution_count": null,
   "id": "01585474",
   "metadata": {},
   "outputs": [],
   "source": []
  },
  {
   "cell_type": "code",
   "execution_count": 57,
   "id": "ccfc844c",
   "metadata": {},
   "outputs": [],
   "source": [
    "#check to see where floats occur.\n",
    "#print(df2.Cuisines[df2.Cuisines.map(type)==float]) "
   ]
  }
 ],
 "metadata": {
  "kernelspec": {
   "display_name": "Python 3 (ipykernel)",
   "language": "python",
   "name": "python3"
  },
  "language_info": {
   "codemirror_mode": {
    "name": "ipython",
    "version": 3
   },
   "file_extension": ".py",
   "mimetype": "text/x-python",
   "name": "python",
   "nbconvert_exporter": "python",
   "pygments_lexer": "ipython3",
   "version": "3.9.7"
  }
 },
 "nbformat": 4,
 "nbformat_minor": 5
}
