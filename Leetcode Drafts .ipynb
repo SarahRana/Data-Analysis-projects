{
 "cells": [
  {
   "cell_type": "code",
   "execution_count": 1,
   "id": "7d57bc57",
   "metadata": {},
   "outputs": [
    {
     "name": "stdout",
     "output_type": "stream",
     "text": [
      "Jessa\n",
      "Emma\n",
      "20\n",
      "30\n",
      "75.5\n"
     ]
    }
   ],
   "source": [
    "list1 = ['Jessa', 'Emma', 20, 30, 75.5]\n",
    "# iterate a list using range()\n",
    "for i in range(len(list1)):\n",
    "    print(list1[i])"
   ]
  },
  {
   "cell_type": "code",
   "execution_count": 2,
   "id": "047e731d",
   "metadata": {},
   "outputs": [
    {
     "name": "stdout",
     "output_type": "stream",
     "text": [
      "Jessa\n",
      "Emma\n",
      "20\n",
      "30\n",
      "75.5\n"
     ]
    }
   ],
   "source": [
    "list1 = ['Jessa', 'Emma',20,30,75.5]\n",
    "\n",
    "for i in list1:\n",
    "    print(i)"
   ]
  },
  {
   "cell_type": "markdown",
   "id": "c8f8e84e",
   "metadata": {},
   "source": [
    "# Moving Zeroes "
   ]
  },
  {
   "cell_type": "code",
   "execution_count": 3,
   "id": "67e1dc78",
   "metadata": {},
   "outputs": [],
   "source": [
    "nums = [3,1,0,12,0]"
   ]
  },
  {
   "cell_type": "code",
   "execution_count": 4,
   "id": "06df1dc0",
   "metadata": {},
   "outputs": [],
   "source": [
    "zeroes = 0\n",
    "for i in range(len(nums)):\n",
    "    if nums[i] == 0:\n",
    "        zeroes += 1 #count of the number of 0 in list \n",
    "    elif zeroes:\n",
    "        nums[i-zeroes] = nums[i] #replace the last (count of zeros) values with 0\n",
    "        nums[i] = 0"
   ]
  },
  {
   "cell_type": "code",
   "execution_count": 5,
   "id": "44d4ef15",
   "metadata": {},
   "outputs": [
    {
     "name": "stdout",
     "output_type": "stream",
     "text": [
      "[3, 1, 12, 0, 0]\n"
     ]
    }
   ],
   "source": [
    "print (nums)"
   ]
  },
  {
   "cell_type": "markdown",
   "id": "41630af6",
   "metadata": {},
   "source": [
    "# Permutation in String "
   ]
  },
  {
   "cell_type": "markdown",
   "id": "380d49b6",
   "metadata": {},
   "source": [
    "### Sliding window technique "
   ]
  },
  {
   "cell_type": "code",
   "execution_count": 6,
   "id": "5c628274",
   "metadata": {},
   "outputs": [],
   "source": [
    "s1 = \"ab\"\n",
    "s2 = \"eidbaooo\"\n",
    "l1= len(s1)\n",
    "l2= len(s2)"
   ]
  },
  {
   "cell_type": "code",
   "execution_count": 7,
   "id": "967cae58",
   "metadata": {},
   "outputs": [],
   "source": [
    "from collections import Counter"
   ]
  },
  {
   "cell_type": "code",
   "execution_count": 8,
   "id": "942a7f8a",
   "metadata": {},
   "outputs": [],
   "source": [
    "dict1= Counter (s1) #letter count for s1 stored in dictionary \n",
    "dict22= Counter (s2)\n",
    "dict2 = Counter (s2[:l1]) #letter count for the first window on s2 (same size as s1)"
   ]
  },
  {
   "cell_type": "code",
   "execution_count": 9,
   "id": "cf96cc2d",
   "metadata": {},
   "outputs": [
    {
     "name": "stdout",
     "output_type": "stream",
     "text": [
      "Counter({'a': 1, 'b': 1}) Counter({'o': 3, 'e': 1, 'i': 1, 'd': 1, 'b': 1, 'a': 1}) Counter({'e': 1, 'i': 1})\n"
     ]
    }
   ],
   "source": [
    "print (dict1,dict22,dict2)"
   ]
  },
  {
   "cell_type": "code",
   "execution_count": 10,
   "id": "b7af5b72",
   "metadata": {},
   "outputs": [
    {
     "name": "stdout",
     "output_type": "stream",
     "text": [
      "0\n"
     ]
    }
   ],
   "source": [
    "print (dict2[s2[i-1]])"
   ]
  },
  {
   "cell_type": "code",
   "execution_count": 11,
   "id": "218d2c78",
   "metadata": {},
   "outputs": [
    {
     "name": "stdout",
     "output_type": "stream",
     "text": [
      "Counter({'i': 1, 'd': 1, 'e': 0})\n",
      "Counter({'d': 1, 'b': 1, 'i': 0})\n",
      "Counter({'b': 1, 'a': 1, 'd': 0})\n",
      "True\n",
      "Counter({'a': 1, 'o': 1, 'b': 0})\n",
      "Counter({'o': 2, 'a': 0})\n",
      "Counter({'o': 2})\n"
     ]
    }
   ],
   "source": [
    "for i in range(1,l2-l1+1):\n",
    "    dict2[s2[i-1]]-=1 # subtract one of the letter count from the dictionary that slides of the window         \n",
    "    dict2[s2[i+l1-1]]+=1 # Add one to the dictionary when it includes a new letter in the window      \n",
    "    print (dict2)\n",
    "    if dict2[s2[i-1]]==0: # delete if key value is 0 \n",
    "        dict2.pop(s2[i-1])\n",
    "            \n",
    "    if dict1==dict2:\n",
    "        print (True)\n",
    "   \n",
    "       "
   ]
  },
  {
   "cell_type": "markdown",
   "id": "93f4eeb7",
   "metadata": {},
   "source": [
    "# Linked List "
   ]
  },
  {
   "cell_type": "markdown",
   "id": "407364b0",
   "metadata": {},
   "source": [
    "### Two pointers ?????"
   ]
  },
  {
   "cell_type": "code",
   "execution_count": 12,
   "id": "4eb5f48c",
   "metadata": {},
   "outputs": [],
   "source": [
    "class ListNode(object):\n",
    "    def __init__(self, val=0, next=None):\n",
    "        self.val = val\n",
    "        self.next = next"
   ]
  },
  {
   "cell_type": "code",
   "execution_count": 13,
   "id": "af6bb372",
   "metadata": {},
   "outputs": [],
   "source": [
    "head= ListNode([1,2,3,4,5])"
   ]
  },
  {
   "cell_type": "code",
   "execution_count": 14,
   "id": "63f629fb",
   "metadata": {},
   "outputs": [
    {
     "name": "stdout",
     "output_type": "stream",
     "text": [
      "<__main__.ListNode object at 0x000001A4B23508B0>\n",
      "None\n"
     ]
    },
    {
     "ename": "AttributeError",
     "evalue": "'NoneType' object has no attribute 'next'",
     "output_type": "error",
     "traceback": [
      "\u001b[1;31m---------------------------------------------------------------------------\u001b[0m",
      "\u001b[1;31mAttributeError\u001b[0m                            Traceback (most recent call last)",
      "\u001b[1;32m<ipython-input-14-c5a08fcf11be>\u001b[0m in \u001b[0;36m<module>\u001b[1;34m\u001b[0m\n\u001b[0;32m     11\u001b[0m         \u001b[1;32melse\u001b[0m\u001b[1;33m:\u001b[0m\u001b[1;33m\u001b[0m\u001b[1;33m\u001b[0m\u001b[0m\n\u001b[0;32m     12\u001b[0m             \u001b[0mprint\u001b[0m \u001b[1;33m(\u001b[0m\u001b[0ms\u001b[0m\u001b[1;33m)\u001b[0m\u001b[1;33m\u001b[0m\u001b[1;33m\u001b[0m\u001b[0m\n\u001b[1;32m---> 13\u001b[1;33m     \u001b[0ms\u001b[0m \u001b[1;33m=\u001b[0m \u001b[0ms\u001b[0m\u001b[1;33m.\u001b[0m\u001b[0mnext\u001b[0m\u001b[1;33m\u001b[0m\u001b[1;33m\u001b[0m\u001b[0m\n\u001b[0m\u001b[0;32m     14\u001b[0m \u001b[0mprint\u001b[0m \u001b[1;33m(\u001b[0m\u001b[0ms\u001b[0m\u001b[1;33m)\u001b[0m\u001b[1;33m\u001b[0m\u001b[1;33m\u001b[0m\u001b[0m\n",
      "\u001b[1;31mAttributeError\u001b[0m: 'NoneType' object has no attribute 'next'"
     ]
    }
   ],
   "source": [
    "s=head\n",
    "f=head\n",
    "\n",
    "while f:\n",
    "    try:\n",
    "        f = f.next.next\n",
    "    except AttributeError:\n",
    "        if f.next != None:\n",
    "            s = s.next\n",
    "            print (s)\n",
    "        else:\n",
    "            print (s)\n",
    "    s = s.next\n",
    "print (s)"
   ]
  },
  {
   "cell_type": "markdown",
   "id": "4e2e8d81",
   "metadata": {},
   "source": [
    "# Flood Fill "
   ]
  },
  {
   "cell_type": "markdown",
   "id": "09d7980d",
   "metadata": {},
   "source": [
    "### Breadth-first search / depth-first search"
   ]
  },
  {
   "cell_type": "code",
   "execution_count": null,
   "id": "7bda360a",
   "metadata": {},
   "outputs": [],
   "source": []
  }
 ],
 "metadata": {
  "kernelspec": {
   "display_name": "Python 3",
   "language": "python",
   "name": "python3"
  },
  "language_info": {
   "codemirror_mode": {
    "name": "ipython",
    "version": 3
   },
   "file_extension": ".py",
   "mimetype": "text/x-python",
   "name": "python",
   "nbconvert_exporter": "python",
   "pygments_lexer": "ipython3",
   "version": "3.8.8"
  }
 },
 "nbformat": 4,
 "nbformat_minor": 5
}
